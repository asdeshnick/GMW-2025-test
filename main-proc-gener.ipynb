{
 "cells": [
  {
   "cell_type": "markdown",
   "id": "ba8b3ff3",
   "metadata": {},
   "source": [
    "### Базовое задание:"
   ]
  },
  {
   "cell_type": "markdown",
   "id": "c1742f98",
   "metadata": {},
   "source": [
    "5 + 3𝑖 + 6 − 2𝑖 = 11 + i\n",
    "\n",
    "5 + 3𝑖 - 6 − 2𝑖 = -1 + i\n",
    "\n",
    "(− 2 + 2𝑖) : (1 + 𝑖) = 2i\n",
    "\n",
    "(1 + i) **3 = 1 + 3i + 3i **2 + i **2 = 1 + 3i + + 3 * (-1) - i = 1 + 3i - 3 - i = -2 + 2i"
   ]
  },
  {
   "cell_type": "code",
   "execution_count": 3,
   "id": "217aaaa8",
   "metadata": {},
   "outputs": [],
   "source": [
    "def complex_power(complex_num, power):\n",
    " \n",
    "    return complex_num ** power"
   ]
  },
  {
   "cell_type": "markdown",
   "id": "5c484cfa",
   "metadata": {},
   "source": [
    "##### Пример использования:"
   ]
  },
  {
   "cell_type": "markdown",
   "id": "d4778641",
   "metadata": {},
   "source": [
    "### Продвинутое задание:"
   ]
  },
  {
   "cell_type": "code",
   "execution_count": 1,
   "id": "58e0ea43",
   "metadata": {},
   "outputs": [],
   "source": [
    "def find_vertex(a: complex, b: complex, c: complex) -> complex:\n",
    "   \n",
    "    return a + b - c"
   ]
  },
  {
   "cell_type": "code",
   "execution_count": 2,
   "id": "b883b8b7",
   "metadata": {},
   "outputs": [
    {
     "name": "stdout",
     "output_type": "stream",
     "text": [
      "(2+5j)\n"
     ]
    }
   ],
   "source": [
    "# Вершины треугольника\n",
    "A = 1 + 2j\n",
    "B = 3 + 4j\n",
    "C = 2 + 1j\n",
    "\n",
    "D = find_vertex(A, B, C)\n",
    "print(D)  "
   ]
  }
 ],
 "metadata": {
  "kernelspec": {
   "display_name": "Python 3",
   "language": "python",
   "name": "python3"
  },
  "language_info": {
   "codemirror_mode": {
    "name": "ipython",
    "version": 3
   },
   "file_extension": ".py",
   "mimetype": "text/x-python",
   "name": "python",
   "nbconvert_exporter": "python",
   "pygments_lexer": "ipython3",
   "version": "3.12.4"
  }
 },
 "nbformat": 4,
 "nbformat_minor": 5
}
