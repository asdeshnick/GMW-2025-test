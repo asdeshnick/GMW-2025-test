{
 "cells": [
  {
   "cell_type": "markdown",
   "id": "17aac513",
   "metadata": {},
   "source": [
    "# часть 1"
   ]
  },
  {
   "cell_type": "markdown",
   "id": "22462905",
   "metadata": {},
   "source": [
    "Когда человек сосредоточен на сложной задаче,\n",
    "требующей высокой концентрации (например, чтение, решение математических задач, вождение),\n",
    "его моргание временно уменьшается.\n",
    "Это происходит потому, что мозг \"тормозит\" автоматические процессы (включая моргание),\n",
    "чтобы не отвлекать внимание от важной информации.\n"
   ]
  },
  {
   "cell_type": "markdown",
   "id": "b61cef76",
   "metadata": {},
   "source": [
    "Чаще всего используют нейронные сети, но также есть алгоритмы классичекого компьютерного зрения"
   ]
  },
  {
   "cell_type": "markdown",
   "id": "96627e6e",
   "metadata": {},
   "source": [
    "# Часть 2"
   ]
  },
  {
   "cell_type": "markdown",
   "id": "1c17dde6",
   "metadata": {},
   "source": [
    "#### 3\n"
   ]
  },
  {
   "cell_type": "markdown",
   "id": "bf945600",
   "metadata": {},
   "source": [
    "Направление взгляда (фокус):\n",
    "\n",
    "Если взгляд направлен в камеру/цель => 15 секунд --> высокое внимание.\n",
    "\n",
    "Если взгляд блуждает (в сторону, вниз) => 10 секунд --> среднее/низкое внимание.\n",
    "\n",
    "Если взгляд отвернут большую часть времени --> рассеянность."
   ]
  },
  {
   "cell_type": "markdown",
   "id": "e0eeea91",
   "metadata": {},
   "source": [
    "#### 4\n"
   ]
  },
  {
   "cell_type": "markdown",
   "id": "ed7d72fb",
   "metadata": {},
   "source": [
    "Игра для людей с СДВГ которая будет тренировать внимание человека\n",
    "\n",
    "Программа для водителей, задача программы: Проверять куда направлен взгляд\n",
    "\n"
   ]
  },
  {
   "cell_type": "markdown",
   "id": "fb67aa2b",
   "metadata": {},
   "source": [
    "#### 5\n"
   ]
  },
  {
   "cell_type": "markdown",
   "id": "01555c56",
   "metadata": {},
   "source": [
    "1: Для понимания того на сколько быстро устают глаза. \n",
    "\n",
    "2: Для понимания вовлеченности в контент."
   ]
  },
  {
   "cell_type": "markdown",
   "id": "6bea00fd",
   "metadata": {},
   "source": [
    "# Часть 3"
   ]
  },
  {
   "cell_type": "markdown",
   "id": "5933b0f4",
   "metadata": {},
   "source": [
    "#### 6"
   ]
  },
  {
   "cell_type": "markdown",
   "id": "e0ad176b",
   "metadata": {},
   "source": [
    "В этом проекте интересна работа с технической частью"
   ]
  },
  {
   "cell_type": "markdown",
   "id": "e3677fd5",
   "metadata": {},
   "source": [
    "#### 7"
   ]
  },
  {
   "cell_type": "markdown",
   "id": "1eef1b6c",
   "metadata": {},
   "source": [
    "писал похожие работы(ниже сылки на проекты и на мой гитхаб)"
   ]
  },
  {
   "cell_type": "markdown",
   "id": "a05cd7b7",
   "metadata": {},
   "source": [
    "[GitHub](https://github.com/asdeshnick)\n",
    "\n",
    "[Google Drive](https://drive.google.com/drive/folders/1JDKJh5O56tn1yO_GVWhx6s87t2ckonlC?usp=sharing)\n",
    "\n"
   ]
  },
  {
   "cell_type": "markdown",
   "id": "303b17dd",
   "metadata": {},
   "source": [
    "## Доп задание(CODE)"
   ]
  },
  {
   "cell_type": "code",
   "execution_count": null,
   "id": "591c5681",
   "metadata": {},
   "outputs": [],
   "source": [
    "import cv2\n",
    "\n",
    "def main():\n",
    "    cap = cv2.VideoCapture(0)\n",
    "\n",
    "    if not cap.isOpened():\n",
    "        print(\"Не удалось открыть камеру\")\n",
    "        return\n",
    "\n",
    "    print(\"Нажми 'q' для выхода, 's' для сохранения кадра.\")\n",
    "    \n",
    "    while True:\n",
    "        ret, frame = cap.read()\n",
    "\n",
    "        if not ret:\n",
    "            print(\"Кадр не считан\")\n",
    "            break\n",
    "\n",
    "        cv2.rectangle(frame, (100, 100), (400, 300), (0, 255, 0), 2)\n",
    "\n",
    "        cv2.putText(frame, 'Press \"q\" to quit', (10, 30), \n",
    "                   cv2.FONT_HERSHEY_SIMPLEX, 1, (255, 255, 255), 2)\n",
    "\n",
    "        cv2.imshow('Camera', frame)\n",
    "\n",
    "        key = cv2.waitKey(1)\n",
    "\n",
    "        if key == ord('q'):\n",
    "            break\n",
    "        elif key == ord('s'):\n",
    "            cv2.imwrite(\"saved_frame.png\", frame)\n",
    "            print(\"Кадр сохранен!\")\n",
    "\n",
    "    cap.release()\n",
    "    cv2.destroyAllWindows()\n",
    "\n",
    "if __name__ == \"__main__\":\n",
    "    main()"
   ]
  }
 ],
 "metadata": {
  "kernelspec": {
   "display_name": ".venv",
   "language": "python",
   "name": "python3"
  },
  "language_info": {
   "codemirror_mode": {
    "name": "ipython",
    "version": 3
   },
   "file_extension": ".py",
   "mimetype": "text/x-python",
   "name": "python",
   "nbconvert_exporter": "python",
   "pygments_lexer": "ipython3",
   "version": "3.10.0"
  }
 },
 "nbformat": 4,
 "nbformat_minor": 5
}
