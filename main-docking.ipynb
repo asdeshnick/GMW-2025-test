{
 "cells": [
  {
   "cell_type": "markdown",
   "id": "165b731a",
   "metadata": {},
   "source": [
    "#### Задание 1"
   ]
  },
  {
   "cell_type": "code",
   "execution_count": null,
   "id": "c0b94833",
   "metadata": {},
   "outputs": [],
   "source": [
    "import sys\n",
    "import os\n",
    "\n",
    "def main():\n",
    "    if len(sys.argv) != 3 or sys.argv[1] != '--sectors':\n",
    "        sys.exit(1)\n",
    "    \n",
    "    try:\n",
    "        M = int(sys.argv[2])\n",
    "        if M < 1:\n",
    "            raise ValueError\n",
    "    except ValueError:\n",
    "        sys.exit(1)\n",
    "    \n",
    "    input_file = \"ellisar_map.dat\"\n",
    "    if not os.path.exists(input_file):\n",
    "        sys.exit(1)\n",
    "    \n",
    "    try:\n",
    "        with open(input_file, 'r') as f:\n",
    "            lines = [line.strip() for line in f if line.strip()]\n",
    "    except Exception as e:\n",
    "        sys.exit(1)\n",
    "    \n",
    "    if not lines:\n",
    "        sys.exit(1)\n",
    "    \n",
    "    n = len(lines)\n",
    "    base_size = n // M\n",
    "    extra = n % M\n",
    "    \n",
    "    start = 0\n",
    "    for i in range(M):\n",
    "        sector_size = base_size + (1 if i < extra else 0)\n",
    "        sector_lines = lines[start:start+sector_size]\n",
    "        start += sector_size\n",
    "        \n",
    "        with open(f\"sector{i}.dat\", 'w') as f_out:\n",
    "            for line in sector_lines:\n",
    "                f_out.write(line + '\\n')\n",
    "                \n",
    "\n",
    "if __name__ == \"__main__\":\n",
    "    main()\n"
   ]
  },
  {
   "cell_type": "markdown",
   "id": "74292471",
   "metadata": {},
   "source": [
    "#### Задание 2"
   ]
  },
  {
   "cell_type": "markdown",
   "id": "6a490896",
   "metadata": {},
   "source": [
    "Да знаю что такое генетический алгоритм, но к сожалению опыта в его использование не было, но очень хотелось бы попробовать с участием ген. алгоритма сделать что-то интересное."
   ]
  }
 ],
 "metadata": {
  "kernelspec": {
   "display_name": "Python 3",
   "language": "python",
   "name": "python3"
  },
  "language_info": {
   "codemirror_mode": {
    "name": "ipython",
    "version": 3
   },
   "file_extension": ".py",
   "mimetype": "text/x-python",
   "name": "python",
   "nbconvert_exporter": "python",
   "pygments_lexer": "ipython3",
   "version": "3.12.4"
  }
 },
 "nbformat": 4,
 "nbformat_minor": 5
}
